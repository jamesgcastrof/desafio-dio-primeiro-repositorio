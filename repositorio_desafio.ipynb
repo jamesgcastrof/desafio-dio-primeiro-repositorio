{
  "nbformat": 4,
  "nbformat_minor": 0,
  "metadata": {
    "colab": {
      "name": "repositorio-desafio.ipynb",
      "provenance": [],
      "authorship_tag": "ABX9TyNagizdI+UvuMMzSaUaXSDl",
      "include_colab_link": true
    },
    "kernelspec": {
      "name": "python3",
      "display_name": "Python 3"
    },
    "language_info": {
      "name": "python"
    }
  },
  "cells": [
    {
      "cell_type": "markdown",
      "metadata": {
        "id": "view-in-github",
        "colab_type": "text"
      },
      "source": [
        "<a href=\"https://colab.research.google.com/github/jamesgcastrof/desafio-dio-primeiro-repositorio/blob/main/repositorio_desafio.ipynb\" target=\"_parent\"><img src=\"https://colab.research.google.com/assets/colab-badge.svg\" alt=\"Open In Colab\"/></a>"
      ]
    },
    {
      "cell_type": "markdown",
      "source": [
        "#Desafio DIO primeiro Repositório 📓\n",
        "Como primeiro repositório gostaria de compartilhar uma experiência minha com\n",
        "Python."
      ],
      "metadata": {
        "id": "ucom6RsJKoUo"
      }
    },
    {
      "cell_type": "code",
      "source": [
        "#Classe de Dados\n",
        "from dataclasses import dataclass\n",
        "\n",
        "@dataclass\n",
        "class Book:\n",
        "    title: str\n",
        "    author: str\n",
        "    page: int\n",
        "    price: float\n",
        "\n",
        "    def bookinfo(self):\n",
        "        return f'{self.title}, by {self.author}'\n",
        "\n",
        "#Criando varias intancias\n",
        "b1 = Book('War and Peace', 'Leo Tolstoy', 1225, 39.95)\n",
        "b2 = Book('The Catcher in the Rye','JD Salinger', 234, 29.95)\n",
        "b3 = Book('War and Peace', 'Leo Tolstoy', 1225, 39.95)\n",
        "\n",
        "#acess fields\n",
        "print(b1.title)\n",
        "print(b2.author)\n",
        "print(b1 == b3)\n",
        "\n",
        "b1.title = 'Anna Karina'\n",
        "b1.pages = 864\n",
        "print(b1.bookinfo())"
      ],
      "metadata": {
        "id": "NZDWehLpgouB"
      },
      "execution_count": null,
      "outputs": []
    }
  ]
}