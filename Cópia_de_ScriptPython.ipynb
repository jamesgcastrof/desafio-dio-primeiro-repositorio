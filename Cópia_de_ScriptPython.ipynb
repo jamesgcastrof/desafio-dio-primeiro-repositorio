{
  "nbformat": 4,
  "nbformat_minor": 0,
  "metadata": {
    "colab": {
      "name": "Cópia de ScriptPython.ipynb",
      "provenance": [],
      "collapsed_sections": [],
      "authorship_tag": "ABX9TyOGMIytTl7otMySy6F6QQsJ",
      "include_colab_link": true
    },
    "kernelspec": {
      "name": "python3",
      "display_name": "Python 3"
    },
    "language_info": {
      "name": "python"
    }
  },
  "cells": [
    {
      "cell_type": "markdown",
      "metadata": {
        "id": "view-in-github",
        "colab_type": "text"
      },
      "source": [
        "<a href=\"https://colab.research.google.com/github/jamesgcastrof/desafio-dio-primeiro-repositorio/blob/main/C%C3%B3pia_de_ScriptPython.ipynb\" target=\"_parent\"><img src=\"https://colab.research.google.com/assets/colab-badge.svg\" alt=\"Open In Colab\"/></a>"
      ]
    },
    {
      "cell_type": "code",
      "source": [
        "import random\n",
        "\n",
        "ansawer = (random.randint(1,3))\n",
        "\n",
        "if ansawer == 1:\n",
        "  print(f\"O número encontrado {ansawer} Yes\")\n",
        "elif ansawer == 2:\n",
        "  print(f\"O número encontrado {ansawer} Maybe\")\n",
        "else:\n",
        "  print(f\"O número econtrado {ansawer} No\")"
      ],
      "metadata": {
        "id": "ViemgJUOoFij"
      },
      "execution_count": null,
      "outputs": []
    },
    {
      "cell_type": "code",
      "source": [
        "import random\n",
        "\n",
        "lucky_number = random.randint(1, 100)\n",
        "\n",
        "fortune_number = random.randint(1,3)\n",
        "\n",
        "fortune_text = ''\n",
        "\n",
        "if fortune_number == 1:\n",
        "  fortune_text = 'You will a have a great day!'\n",
        "if fortune_number == 2:\n",
        "  fortune_text = 'Today will be tought... but worth it'\n",
        "if fortune_number == 3 :\n",
        "  fortune_text = 'You will get maried this year!'\n",
        "\n",
        "print(f'{fortune_text} Your luck number is: {lucky_number}')"
      ],
      "metadata": {
        "id": "DDGFbqjsrFLn"
      },
      "execution_count": null,
      "outputs": []
    },
    {
      "cell_type": "code",
      "source": [
        "import random\n",
        "fav_movies = [\"Sandlot\", \"Lego Movie\", \"Dune\"]\n",
        "\n",
        "select = random.choice(fav_movies)\n",
        "\n",
        "print(select)\n",
        "\n",
        "\n"
      ],
      "metadata": {
        "id": "vRsdOBZFtIST"
      },
      "execution_count": null,
      "outputs": []
    },
    {
      "cell_type": "code",
      "source": [
        "#for number in range(40):\n",
        "  #print((number + 1) *2)\n"
      ],
      "metadata": {
        "id": "E4oYGMG_TSHS"
      },
      "execution_count": null,
      "outputs": []
    },
    {
      "cell_type": "code",
      "source": [
        "cats = {\"Jane\":6, \"Tom\":14, \"Sara\":8}\n",
        "\n",
        "cats[\"Wilson\"] = 1\n",
        "\n",
        "del(cats['Tom'])\n",
        "len(cats)\n",
        "\n",
        "print(len(cats))"
      ],
      "metadata": {
        "id": "eJvCLCj4qCAG"
      },
      "execution_count": null,
      "outputs": []
    },
    {
      "cell_type": "code",
      "source": [
        "text = \"\"\"\n",
        "Selenium server is a Java program. Java Runtime Environment (JRE) 1.6 or newer version is recommended to run Selenium server.\n",
        "\n",
        "You can download Selenium server 2.x from the download page of selenium website. The file name should be something like this: selenium-server-standalone-2.x.x.jar. You can always download the latest 2.x version of Selenium server.\n",
        "\n",
        "If Java Runtime Environment (JRE) is not installed in your system, you can download the JRE from the Oracle website. If you are using a GNU/Linux system and have root access in your system, you can also use your operating system instructions to install JRE.\n",
        "\n",
        "If java command is available in the PATH (environment variable), you can start the Selenium server using this command:\n",
        "\"\"\"\n",
        "print(text.split())\n",
        "\n",
        "word_count = {}\n",
        "\n",
        "for word in text.lower().split():\n",
        "  if word in word_count:\n",
        "    word_count[word] += 1\n",
        "  else:\n",
        "    word_count[word] = 1\n",
        "\n",
        "print(word_count)"
      ],
      "metadata": {
        "id": "KjuS-u9OqpuF"
      },
      "execution_count": null,
      "outputs": []
    },
    {
      "cell_type": "code",
      "source": [
        "def bark():\n",
        "  print(\"Woof Woof!\")\n",
        "  print(\"I'm a dog!\")\n",
        "\n",
        "for x in range(3):\n",
        "  bark()"
      ],
      "metadata": {
        "id": "9JDBBCNSvcE5"
      },
      "execution_count": null,
      "outputs": []
    },
    {
      "cell_type": "code",
      "source": [
        "def saudacao(name):\n",
        "  \n",
        "  print(f\"Hello {name}!\")\n",
        "\n",
        "saudacao(\"James\")\n",
        "\n",
        "def add_numbers(num1,num2):\n",
        "  print(num1 + num2)\n",
        "\n",
        "add_numbers(4,8)\n",
        "add_numbers(3,7)\n",
        "\n",
        "def dog_info(age, name):\n",
        "  print(f\"this dog age is {age} and name is {name}\")\n",
        "\n",
        "dog_info(2, \"Dog\")"
      ],
      "metadata": {
        "id": "7NTjcFTa0w3K"
      },
      "execution_count": null,
      "outputs": []
    },
    {
      "cell_type": "code",
      "source": [
        "#def double(number):\n",
        " # return number * 2\n",
        "\n",
        "#new_number = double(5)\n",
        "\n",
        "#print(new_number)\n",
        "\n",
        "def frase(string):\n",
        "  string = str(input(\"digite uma frase qualquer: \"))\n",
        "  print(f\"a frase que vc digitou foi {string} \")\n",
        "\n",
        "  return string.upper()\n",
        "print(frase(string))\n"
      ],
      "metadata": {
        "id": "BrX3rVJW3PzW"
      },
      "execution_count": null,
      "outputs": []
    },
    {
      "cell_type": "code",
      "source": [
        "text = str(input('Enter some text: '))\n",
        "print('''Choice option\n",
        "[1] for upper\n",
        "[2] for lower\n",
        "''')\n",
        "escolha = int(input())\n",
        "\n",
        "if escolha == 1:\n",
        "  print('You select option 1, is uppercase text')\n",
        "  print(text.upper())\n",
        "elif escolha == 2:\n",
        "  print('You select option 2, is lowecase text')\n",
        "  print(text.lower())"
      ],
      "metadata": {
        "id": "MHPJSya18D13"
      },
      "execution_count": null,
      "outputs": []
    },
    {
      "cell_type": "code",
      "source": [
        "import random\n",
        "import time\n",
        "\n",
        "print(\"\"\"Hi! Welcome to the guessing game. I am going to pick\n",
        "a number 1 and 100.\n",
        "\"\"\")\n",
        "time.sleep(3)\n",
        "print('Picking a number...')\n",
        "time.sleep(2)\n",
        "guess = int(input(\"What is your guess?: \"))\n",
        "correct_number = random.randint(1,100)\n",
        "guess_count = 1\n",
        "\n",
        "while guess != correct_number:\n",
        "  guess_count += 1\n",
        "  if guess > correct_number:\n",
        "   print('This number is high for correct number')\n",
        "  else:\n",
        "    print('This number is low for correct number')\n",
        "  \n",
        "  guess = int(input(\"What is your guess?: \"))\n",
        "\n",
        "print(f'Nice is number {guess} thats correct number. It took you {guess_count} guesses')\n"
      ],
      "metadata": {
        "id": "UV-8e1lkA725"
      },
      "execution_count": null,
      "outputs": []
    },
    {
      "cell_type": "code",
      "source": [
        "words = ['one', 'two', 'three', 'four', 'five']\n",
        "\n",
        "n = 0\n",
        "\n",
        "while(n < 5):\n",
        "  print(words[n])\n",
        "\n",
        "  n += 1"
      ],
      "metadata": {
        "id": "gOl29ltQE05t"
      },
      "execution_count": null,
      "outputs": []
    },
    {
      "cell_type": "code",
      "source": [
        "a, b = 0, 1\n",
        "\n",
        "while b < 1000:\n",
        "  print(b, end = ' ', flush = True)\n",
        "  a, b = b, a + b\n",
        "\n",
        "print()"
      ],
      "metadata": {
        "id": "vGtrzg2nlzet"
      },
      "execution_count": null,
      "outputs": []
    },
    {
      "cell_type": "code",
      "source": [
        "words = ['one', 'two', 'three', 'four', 'five']\n",
        "\n",
        "for i in words:\n",
        "  print(i)"
      ],
      "metadata": {
        "id": "0cbiP4N7mMRl"
      },
      "execution_count": null,
      "outputs": []
    },
    {
      "cell_type": "code",
      "source": [
        "def function(n = 1):\n",
        "  print(n)\n",
        "  return n * 2\n",
        "x = function(321)\n",
        "print(x)"
      ],
      "metadata": {
        "id": "jWlerMJAmd-l"
      },
      "execution_count": null,
      "outputs": []
    },
    {
      "cell_type": "code",
      "source": [
        "def isprime(n):\n",
        "  if n <= 1:\n",
        "    return False\n",
        "  for x in range(2, n):\n",
        "    if n % x == 0:\n",
        "        return False\n",
        "  else:\n",
        "    return True\n",
        "\n",
        "def list_primes():\n",
        "  for n in range(100):\n",
        "    if isprime(n):\n",
        "      print(n, end=' ', flush=True)\n",
        "  print()\n",
        "\n",
        "list_primes()\n"
      ],
      "metadata": {
        "id": "oVs5AWi1m-S5"
      },
      "execution_count": null,
      "outputs": []
    },
    {
      "cell_type": "code",
      "source": [
        "class Duck:\n",
        "  sound = 'Quaaaaak!'\n",
        "  walking = 'Walks like a duck.'\n",
        "  swimm = 'Swim like a duck.'\n",
        "  def quack(self):\n",
        "    print(self.sound)\n",
        "\n",
        "  def walk(self):\n",
        "    print(self.walking)\n",
        "\n",
        "  def swim(self):\n",
        "    print(self.swimm)\n",
        "\n",
        "def main():\n",
        "  donald = Duck()\n",
        "  donald.quack()\n",
        "  donald.walk()\n",
        "  donald.swim()\n",
        "\n",
        "if __name__ == '__main__': main()"
      ],
      "metadata": {
        "id": "TOIdKH81pde9"
      },
      "execution_count": null,
      "outputs": []
    },
    {
      "cell_type": "code",
      "source": [
        "x = {'one', 'two','three'}\n",
        "for i in x:\n",
        "  print('i is {}'.format(i))"
      ],
      "metadata": {
        "id": "aLxH4BZByZ74"
      },
      "execution_count": null,
      "outputs": []
    },
    {
      "cell_type": "code",
      "source": [
        "def main():\n",
        "  x = 5\n",
        "  print(id(x))\n",
        "  kitten(x)\n",
        "  print(f'in main: x is {x}')\n",
        "\n",
        "def kitten(a):\n",
        "  print(id(a))\n",
        "  a = 3\n",
        "  print(id(a))\n",
        "  print('Meow.')\n",
        "  print(a)\n",
        "if __name__ == '__main__':main()"
      ],
      "metadata": {
        "id": "hV44qMzWKMDp"
      },
      "execution_count": null,
      "outputs": []
    },
    {
      "cell_type": "code",
      "source": [
        "numero = int(input('Digite um número: '))\n",
        "\n",
        "for numero in range (numero +1):\n",
        "  print(numero)"
      ],
      "metadata": {
        "id": "vkPeYmNOk97m"
      },
      "execution_count": null,
      "outputs": []
    },
    {
      "cell_type": "code",
      "source": [
        "valor = int(input('digite um valor qualquer: '))\n",
        "\n",
        "if valor <= 25:\n",
        "  print(f'O valor {valor} se encontra no intervalo de 0 a 25')\n",
        "elif valor > 50 and valor <= 75:\n",
        "  print(f'O valor {valor} se encontra no intervalo de 50 a 75')\n",
        "elif valor > 75 and valor <= 100:\n",
        "  print(f'O valor {valor} se encontra no intervalo de 75 a 100')\n",
        "else:\n",
        "  print('O valor ultrapassou o intervalo ')"
      ],
      "metadata": {
        "id": "7FFTyy1tmGdc"
      },
      "execution_count": null,
      "outputs": []
    },
    {
      "cell_type": "code",
      "source": [
        "def main():\n",
        "  kitten('meow', 'grrr', 'purrr')\n",
        "\n",
        "def kitten(*args):\n",
        "  if len(args):\n",
        "      for s in args:\n",
        "        print(s)\n",
        "  else:print('Meow.')\n",
        "\n",
        "if __name__== '__main__': main()"
      ],
      "metadata": {
        "id": "pdffwKxNHo_d"
      },
      "execution_count": null,
      "outputs": []
    },
    {
      "cell_type": "code",
      "source": [
        "def main():\n",
        "  x = dict(Buffy = 'meow', Zilla = 'grr', Trovão = 'cof cof')\n",
        "  kitten(**x)\n",
        "\n",
        "def kitten(**kwargs):\n",
        "  if len(kwargs):\n",
        "    for k in kwargs:\n",
        "      print('Kitten {} says {}'.format(k, kwargs[k]))\n",
        "  else: print('Meow')\n",
        "\n",
        "if __name__ == '__main__':main()\n"
      ],
      "metadata": {
        "id": "hU7yqcvCgcUS"
      },
      "execution_count": null,
      "outputs": []
    },
    {
      "cell_type": "code",
      "source": [
        "def main():\n",
        "  for i in range(25):\n",
        "   print(i, end =' ')\n",
        "  print()\n",
        "\n",
        "def inclusive_range(*args):\n",
        "  numargs = len(args)\n",
        "  start = 0\n",
        "  step = 1\n",
        "\n",
        "  #parametros inicializadores\n",
        "  if numargs < 1:\n",
        "    raise TypeError(f'expected at least 1 argmuent, got {numargs}')\n",
        "  elif numargs == 1:\n",
        "    stop = args[0]\n",
        "  elif numargs == 2:\n",
        "    (start, stop) = args\n",
        "  elif numargs ==3:\n",
        "    (start, stop, step) = args\n",
        "  else: raise TypeError(f'expected at most 3 arguments, got {numargs}')\n",
        "\n",
        "  #gerador\n",
        "  i = start\n",
        "  while i <= stop:\n",
        "    yield 1 \n",
        "    i +=  step\n",
        "\n",
        "if __name__ =='__main__': main()"
      ],
      "metadata": {
        "id": "gf6y6QaJrPay"
      },
      "execution_count": null,
      "outputs": []
    },
    {
      "cell_type": "code",
      "source": [
        "def main():\n",
        "  game = ( 'Rock', 'Paper','Scissors','Lizard','Spock' )\n",
        "  #game.appen('Computer')\n",
        "  #print(', '.join(game))\n",
        "  #del game[1:3:]\n",
        "  #game.pop(3)\n",
        "  #i = game.index('Lizard')\n",
        "  #game.remove('Paper')\n",
        "  print_list(game)\n",
        "\n",
        "def print_list(o):\n",
        "  for i in o: print(i, end= ' ', flush=True)\n",
        "  print()\n",
        "\n",
        "if __name__ == '__main__': main()\n"
      ],
      "metadata": {
        "id": "E6TjoALCwFoO"
      },
      "execution_count": null,
      "outputs": []
    },
    {
      "cell_type": "code",
      "source": [
        "class Cat:\n",
        "  sound = 'Grrr.'\n",
        "  movement = 'Walks like a lion.'\n",
        "\n",
        "  def grr(self):\n",
        "    print(self.sound)\n",
        "\n",
        "  def move(self):\n",
        "    print(self.movement)\n",
        "\n",
        "def main():\n",
        "    lion = Cat()\n",
        "    lion.grr()\n",
        "    lion.move()\n",
        "\n",
        "if __name__ == '__main__': main()"
      ],
      "metadata": {
        "id": "hUlUwSK49Ro3"
      },
      "execution_count": null,
      "outputs": []
    },
    {
      "cell_type": "code",
      "source": [
        "class Animal:\n",
        "  def __init__(self, **kwargs):\n",
        "      self._type = kwargs['type'] if 'type' in kwargs else 'kitten'\n",
        "      self._name = kwargs['name'] if 'name' in kwargs else 'fluffy'\n",
        "      self._sound = kwargs['sound'] if 'sound' in kwargs else 'meow'\n",
        "\n",
        "  def type(self):\n",
        "      return self._type\n",
        "\n",
        "  def name(self):\n",
        "      return self._name\n",
        "    \n",
        "  def sound(self):\n",
        "      return self._sound\n",
        "\n",
        "def print_animal(o):\n",
        "  if not isinstance(o, Animal):\n",
        "      raise TypeError('print_animal(): requires an Animal')\n",
        "  print('The {} is named \"{}\" and says \"{}\".'.format(o.type(), o.name(), o.sound()))  \n",
        "\n",
        "def main():\n",
        "  a0 = Animal(type='Kitten', name='fluffy', sound='rwar')\n",
        "  a1 = Animal(type='duck', name='donald', sound='quack')\n",
        "  print_animal(a0)\n",
        "  print_animal(a1)\n",
        "  print_animal(Animal(type='Velociraptor', name='veronica', sound='hello'))\n",
        "  print_animal(Animal())\n",
        "if __name__ == '__main__': main()"
      ],
      "metadata": {
        "id": "VRcRNTzVbun_"
      },
      "execution_count": null,
      "outputs": []
    },
    {
      "cell_type": "code",
      "source": [
        "import sys\n",
        "\n",
        "def main():\n",
        "  try:\n",
        "    x = 5/0\n",
        "\n",
        "  except ValueError:\n",
        "    print('Encontrei um erro tipo valor')\n",
        "  except:\n",
        "    print(f'unknow error: {sys.exc_info()[1]}')\n",
        "  else:\n",
        "    print('Parabéns não foi encontrado erros!')\n",
        "    print(x)\n",
        "\n",
        "\n",
        "if __name__ == '__main__': main()"
      ],
      "metadata": {
        "id": "1Pxq_ST2fYI0"
      },
      "execution_count": null,
      "outputs": []
    },
    {
      "cell_type": "code",
      "source": [
        "def inclusive_range(*args):\n",
        "  numargs = len(args)\n",
        "  start = 0\n",
        "  step = 1\n",
        "\n",
        "  #parametros inicializadores\n",
        "  if numargs < 1:\n",
        "    raise TypeError(f'expected at least 1 argmuent, got {numargs}')\n",
        "  elif numargs == 1:\n",
        "    stop = args[0]\n",
        "  elif numargs == 2:\n",
        "    (start, stop) = args\n",
        "  elif numargs ==3:\n",
        "    (start, stop, step) = args\n",
        "  else: raise TypeError(f'expected at most 3 arguments, got {numargs}')\n",
        "\n",
        "  #gerador\n",
        "  i = start\n",
        "  while i <= stop:\n",
        "    yield 1 \n",
        "    i +=  step\n",
        "\n",
        "def main():\n",
        "    try:\n",
        "      for i in range():\n",
        "        print(i, end =' ')\n",
        "      print()\n",
        "    except TypeError as e:\n",
        "      print(f'range error: {e}')\n",
        "      \n",
        "\n",
        "\n",
        "if __name__ =='__main__': main()"
      ],
      "metadata": {
        "id": "dyio6yksIcaI"
      },
      "execution_count": null,
      "outputs": []
    },
    {
      "cell_type": "code",
      "source": [
        "#define a classe \n",
        "class MyString(str):\n",
        "    def __str__(self): #passa o paramentro\n",
        "        return self[::-1] #retorna o valor\n",
        "\n",
        "a = MyString('Hello World.') # passa o valor que usara a classe\n",
        "s = 'Hello World. {}'\n",
        "\n",
        "#letra maiuscula\n",
        "print('Hello World'.upper())\n",
        "#inverte a frase\n",
        "print('Hello World'.swapcase())\n",
        "#formata\n",
        "print('Hello World. {}'.format(42 -7))\n",
        "#>>''' para textos longos '''<<\n",
        "print('''\n",
        "  Hello World\n",
        "''')\n",
        "print(s.format(42*7))\n",
        "#utilizando format e class\n",
        "print(a)\n",
        "#letra minuscula\n",
        "print('Hello World'.lower())\n",
        "#primeira letra maiuscula\n",
        "print('Hello World'.capitalize())\n",
        "#primeira letra de cada palavra maiuscula\n",
        "print('hello world'.title())\n",
        "#letra minuscula mais agressivo\n",
        "print('Hello World '.casefold())\n",
        "#comparativo de id que identifica variaveis diferentes compartilhando\n",
        "#uma mesma str\n",
        "s1 = 'Hello World'\n",
        "s2 = s1.upper()\n",
        "print(id(s1))\n",
        "print(id(s2))"
      ],
      "metadata": {
        "id": "Tm_hxbGqLydY"
      },
      "execution_count": null,
      "outputs": []
    },
    {
      "cell_type": "code",
      "source": [
        "#testando tipos de formatação com o .format e f()\n",
        "\n",
        "x, y = 42, 73\n",
        "z = 747 * x *1000\n",
        "print('the number is {} {}'.format(x, y))\n",
        "#utilizando numeradores para posicionar varivael '1' e '0'\n",
        "print('the number is {1} {0}'.format(x, y))\n",
        "#utilizando variveis junto ao formato 'xx' 'bb'\n",
        "print('the number is {xx} {bb}'.format(xx= x, bb= y))\n",
        "#repetindo a variavel com format \n",
        "print('the number is {0} {1} {0}'.format(x, y))\n",
        "#delimitando espaços com formatção :<5 espaços para esquerda e direita :>5\n",
        "print('the number is {0:<5} {1:>5}'.format(x, y))\n",
        "#definindo valores para os espaços do exemplo acima\n",
        "#é possível utilizar sinais junto para formatar os espaços\n",
        "print('the number is {0:0<5} {1:0>5}'.format(x, y))\n",
        "#formatando números grandes\n",
        "print('the number is {:,}'.format(z))\n",
        "#substituindo caracteres ',' por '.' e formatando \n",
        "print('the number is {:,}'.format(z).replace(',','.'))\n",
        "#formatando decimais\n",
        "print('the number is {:.2f}'.format(z))\n",
        "#trabalhando com decimais\n",
        "print('the number is {:x}'.format(x))\n",
        "#trabalhando com octal\n",
        "print('the number is {:o}'.format(x))\n",
        "#trabalhando com binario\n",
        "print('the number is {:b}'.format(x))\n",
        "#formatando com f()\n",
        "print(f'the number is {x}')"
      ],
      "metadata": {
        "id": "BnuJGh5nNcMo"
      },
      "execution_count": null,
      "outputs": []
    },
    {
      "cell_type": "code",
      "source": [
        "#splitting and joing 'dividindo e juntando'\n",
        "\n",
        "s = '''\n",
        "  Esse é um texto longo com muitas palavras nele\n",
        "'''\n",
        "l = s.split()\n",
        "s2 = '--'.join(l)\n",
        "#formatando com '--' e atribuindo join para juntar \n",
        "print(s.split())\n",
        "print(s2)"
      ],
      "metadata": {
        "id": "R8NraFb2VhZl",
        "outputId": "babf5e1c-b8df-46a1-cb61-39f0718d15ed",
        "colab": {
          "base_uri": "https://localhost:8080/"
        }
      },
      "execution_count": null,
      "outputs": [
        {
          "output_type": "stream",
          "name": "stdout",
          "text": [
            "['Esse', 'é', 'um', 'texto', 'longo', 'com', 'muitas', 'palavras', 'nele']\n",
            "Esse--é--um--texto--longo--com--muitas--palavras--nele\n"
          ]
        }
      ]
    },
    {
      "cell_type": "code",
      "source": [
        "#abrir arquivos (open files)\n",
        "def main():\n",
        "  f = open('lines.txt')\n",
        "  for line in f:\n",
        "      print(line.rstrip())\n",
        "\n",
        "if __name_ == '__main__': main()\n"
      ],
      "metadata": {
        "id": "w2G6jUoFXl2p"
      },
      "execution_count": null,
      "outputs": []
    },
    {
      "cell_type": "code",
      "source": [
        "#testando import 'sys'\n",
        "import sys\n",
        "\n",
        "def main():\n",
        "  a = sys.version_info\n",
        "  v = sys.platform\n",
        "  print('Python version {}.{}.{}'.format(*a))\n",
        "  print(v)\n",
        "if __name__ == '__main__': main()"
      ],
      "metadata": {
        "colab": {
          "base_uri": "https://localhost:8080/"
        },
        "id": "H-t3xfUaFjN1",
        "outputId": "c8e79153-2bc2-471e-d1c0-8544938cc6f4"
      },
      "execution_count": null,
      "outputs": [
        {
          "output_type": "stream",
          "name": "stdout",
          "text": [
            "Python version 3.7.13\n",
            "linux\n"
          ]
        }
      ]
    },
    {
      "cell_type": "code",
      "source": [
        "#testando import os\n",
        "import os\n",
        "\n",
        "def main():\n",
        "    a = os.urandom(25).hex()\n",
        "    b = os.getcwd()\n",
        "    c = os.getenv('PATH')\n",
        "    d = os.name\n",
        "    print(a)\n",
        "    print(b)\n",
        "    print(c)\n",
        "    print(d)\n",
        "if __name__ == '__main__': main()"
      ],
      "metadata": {
        "id": "5uWd0tg8GOLK"
      },
      "execution_count": null,
      "outputs": []
    },
    {
      "cell_type": "code",
      "source": [
        "#testando import random\n",
        "import random\n",
        "\n",
        "def main():\n",
        "    a = random.randint(1, 100) #seleciona um número aleatório\n",
        "    b = list(range(5)) #cria uma lista até o valor selecionado\n",
        "    \n",
        "    print(a)\n",
        "    print(b)\n",
        "    random.shuffle(b) #embaralha as informações\n",
        "    print(b)\n",
        "    \n",
        "if __name__ == '__main__': main()\n"
      ],
      "metadata": {
        "id": "4e3Mc29KHJxZ"
      },
      "execution_count": null,
      "outputs": []
    },
    {
      "cell_type": "code",
      "source": [
        "#testando import datetime\n",
        "\n",
        "import datetime\n",
        "\n",
        "def main():\n",
        "    now = datetime.datetime.now()\n",
        "    print(now.year)\n",
        "    print(now.month)\n",
        "    print(now.day)\n",
        "    \n",
        "\n",
        "if __name__ == '__main__': main()"
      ],
      "metadata": {
        "id": "x5cIN7tAIOpS"
      },
      "execution_count": null,
      "outputs": []
    },
    {
      "cell_type": "code",
      "source": [
        "#BANCO DE DADOS \n",
        "\n",
        "import sqlite3\n",
        "\n",
        "def main():\n",
        "    print('connect')\n",
        "    db = sqlite3.connect('db-api.db')\n",
        "    cur = db.cursor()\n",
        "    print('create')\n",
        "    cur.execute('DROP TABLE IF EXISTS test')\n",
        "    cur.execute(\"\"\"\n",
        "        CREATE TABLE test (\n",
        "            id INTEGER PRIMARY KEY, string TEXT, number INTEGER\n",
        "        )\n",
        "        \"\"\")\n",
        "    print('insert row')\n",
        "    cur.execute('''\n",
        "        INSERT INTO test (string, number) VALUES ('one', 1)\n",
        "        ''')\n",
        "    print('insert row')\n",
        "    cur.execute(\"\"\"\n",
        "        INSERT INTO test (string, number) VALUES ('two', 2)\n",
        "        \"\"\")\n",
        "    print('insert row')\n",
        "    cur.execute(\"\"\"\n",
        "        INSERT INTO test (string, number) VALUES ('three', 3)\n",
        "        \"\"\")\n",
        "    print('commit')\n",
        "    db.commit()\n",
        "    print('count')\n",
        "    cur.execute('SELECT COUNT(*) FROM test')\n",
        "    count = cur.fetchone()[0]\n",
        "    print(f'ther are {count} rows in the table.')\n",
        "    print('read')\n",
        "    for row in cur.execute('SELECT * FROM test'):\n",
        "        print(row)\n",
        "    print('drop')\n",
        "    cur.execute(\"DROP TABLE test\")\n",
        "    print('close')\n",
        "    db.close()\n",
        "\n",
        "if __name__ == '__main__': main()"
      ],
      "metadata": {
        "id": "tb3yQNXoKExL"
      },
      "execution_count": null,
      "outputs": []
    },
    {
      "cell_type": "code",
      "source": [
        "class Book:\n",
        "\n",
        "    def __init__(self, title, author, pages, price):\n",
        "        self.title = title\n",
        "        self.author = author\n",
        "        self.pages = pages\n",
        "        self.price = price\n",
        "        self.__secret = 'this a secret atribute'\n",
        "\n",
        "    def getprice(self):\n",
        "        if hasattr(self, '_discount'):\n",
        "            return self.price - (self.price * self._discount)\n",
        "        else:  \n",
        "            return self.price\n",
        "\n",
        "    def setdisocunt(self, amount): \n",
        "        self._discount = amount\n",
        "\n",
        "b1 = Book('War and Peace','autor', 100, 10)\n",
        "\n",
        "print(b1.getprice())\n",
        "b1.setdisocunt(0.25)\n",
        "print(b1.getprice())\n",
        "print(b1._Book__secret)"
      ],
      "metadata": {
        "id": "JzEryyLXwVtH"
      },
      "execution_count": null,
      "outputs": []
    },
    {
      "cell_type": "code",
      "source": [
        "#Trabalhando com herança\n",
        "\n",
        "class Veiculo:\n",
        "    def __init__(self, motor, direcao, cor):\n",
        "        self.motor = motor\n",
        "        self.direcao = direcao\n",
        "        self.cor = cor\n",
        "\n",
        "class Carro(Veiculo):\n",
        "    def __init__(self, motor, direcao, cor, rodas):\n",
        "        super().__init__(motor, direcao, cor)\n",
        "        self.rodas = rodas\n",
        "\n",
        "class Barco(Veiculo):\n",
        "    def __init__(self, motor, direcao, cor, casco):\n",
        "        super().__init__(motor, direcao, cor)\n",
        "        self.casco = casco\n",
        "\n",
        "class Aviao(Veiculo):\n",
        "    def __init__(self, motor, direcao, cor, asas):\n",
        "        super().__init__(motor, direcao, cor,)\n",
        "        self.asas = asas\n",
        "\n",
        "class Veloster(Carro):\n",
        "    def __init__(self, motor, direcao, cor, rodas, corre):\n",
        "        super().__init__(motor, direcao, cor, rodas)\n",
        "        self.corre = corre\n",
        "                              \n",
        "class Iate(Barco):\n",
        "    def __init__(self, motor, direcao, cor, casco, nada):\n",
        "        super().__init__(motor, direcao, cor, casco)\n",
        "        self.nada = nada\n",
        "\n",
        "class TecoTeco(Aviao):\n",
        "    def __init__(self, motor, direcao, cor, asas, voa):\n",
        "        super().__init__(motor, direcao, cor, asas)\n",
        "        self.voa = voa\n",
        "\n",
        "    def __str__(self):\n",
        "        return f'{self.motor} {self.direcao} {self.cor}' \n",
        "\n",
        "c1 = Veloster('motor: v8','Direção Hidraulica', 'Rodas aro 15', 'Vermelho', 'SIM')\n",
        "i1 = Iate('motor: 800cv', 'Direção Leme', 'Azul', 'Casco de ferro', 'SIM')\n",
        "t1 = TecoTeco('motor: Helice', 'Direção Manche', 'Verde', 'Fibra Carbono', 'SIM')\n",
        "\n",
        "print(c1.motor, c1.direcao, c1.rodas, c1.cor, c1.corre)\n",
        "print(i1.motor)\n",
        "print(t1.direcao)\n",
        "\n",
        "print(str(t1))\n",
        "print(str(c1))\n",
        "print(str(i1))"
      ],
      "metadata": {
        "id": "IRSZuZLspvj1",
        "colab": {
          "base_uri": "https://localhost:8080/"
        },
        "outputId": "81a7c5e0-f5d3-4cb3-b03a-2004a55d1207"
      },
      "execution_count": null,
      "outputs": [
        {
          "output_type": "stream",
          "name": "stdout",
          "text": [
            "motor: v8 Direção Hidraulica Vermelho Rodas aro 15 SIM\n",
            "motor: 800cv\n",
            "Direção Manche\n",
            "motor: Helice Direção Manche Verde\n",
            "<__main__.Veloster object at 0x7fe8f13ce210>\n",
            "<__main__.Iate object at 0x7fe8f13ceb50>\n"
          ]
        }
      ]
    },
    {
      "cell_type": "code",
      "source": [
        "#Classe de Dados\n",
        "from dataclasses import dataclass\n",
        "\n",
        "@dataclass\n",
        "class Book:\n",
        "    title: str\n",
        "    author: str\n",
        "    page: int\n",
        "    price: float\n",
        "\n",
        "    def bookinfo(self):\n",
        "        return f'{self.title}, by {self.author}'\n",
        "\n",
        "#Criando varias intancias\n",
        "b1 = Book('War and Peace', 'Leo Tolstoy', 1225, 39.95)\n",
        "b2 = Book('The Catcher in the Rye','JD Salinger', 234, 29.95)\n",
        "b3 = Book('War and Peace', 'Leo Tolstoy', 1225, 39.95)\n",
        "\n",
        "#acess fields\n",
        "print(b1.title)\n",
        "print(b2.author)\n",
        "print(b1 == b3)\n",
        "\n",
        "b1.title = 'Anna Karina'\n",
        "b1.pages = 864\n",
        "print(b1.bookinfo())"
      ],
      "metadata": {
        "id": "NZDWehLpgouB"
      },
      "execution_count": null,
      "outputs": []
    },
    {
      "cell_type": "code",
      "source": [
        "#Pacote HTTP Python e módulos urllib e JSON\n",
        "\n",
        "import urllib.request\n",
        "import json\n",
        "import textwrap\n",
        "\n",
        "\n",
        "with urllib.request.urlopen(\"https://www.googleapis.com/books/v1/volumes?q=isbn:1101904224\") as f:\n",
        "    text = f.read()\n",
        "    decodetext = text.decode('utf-8')\n",
        "    print(textwrap.fill(decodetext, width=50))\n",
        "\n",
        "print()\n",
        "\n",
        "obj = json.loads(decodetext)\n",
        "print(obj['kind'])\n",
        "\n",
        "print(obj['items'] [0] ['searchInfo'] ['textSnippet'])"
      ],
      "metadata": {
        "id": "mhTxdomQpQ4L"
      },
      "execution_count": null,
      "outputs": []
    },
    {
      "cell_type": "code",
      "source": [
        "import random\n",
        "\n",
        "print('Vamos jogar pedra papel tesoura!!')\n",
        "\n",
        "#escolha = str(input('Escolha entre [Pedra] [Papel] [Tesoura}: ').lower())\n",
        "lista = ['pedra', 'papel', 'tesoura']\n",
        "maquina = random.choice(lista)\n",
        "\n",
        "jogar_novamente = 'sim'\n",
        "while (jogar_novamente == 'sim'):\n",
        "  escolha = str(input('Escolha entre [Pedra] [Papel] [Tesoura}: ').lower())\n",
        "  if escolha == 'pedra':\n",
        "      if maquina == 'pedra':\n",
        "          print(f'maquina:{maquina} vs usuario:{escolha}! Empate!')\n",
        "      \n",
        "      elif maquina == 'Papel':\n",
        "          print(f'maquina:{maquina} vs usuario:{escolha}! Voce Perdeu!')\n",
        "\n",
        "      elif maquina == 'tesoura':\n",
        "          print(f'maquina:{maquina} vs usuario:{escolha}! Voce Venceu!')\n",
        "\n",
        "  elif escolha == 'papel':\n",
        "      if maquina == 'papel':\n",
        "          print(f'maquina:{maquina} vs usuario:{escolha}! Empate!')\n",
        "      \n",
        "      elif maquina == 'pedra':\n",
        "          print(f'maquina:{maquina} vs usuario:{escolha}! Voce Venceu!')\n",
        "\n",
        "      elif maquina == 'tesoura':\n",
        "          print(f'maquina:{maquina} vs usuario:{escolha}! Voce Perdeu!')\n",
        "\n",
        "  elif escolha == 'tesoura':\n",
        "      if maquina == 'tesoura':\n",
        "          print(f'maquina:{maquina} vs usuario:{escolha}! Empate!')\n",
        "      \n",
        "      elif maquina == 'papel':\n",
        "          print(f'maquina:{maquina} vs usuario:{escolha}! Voce Venceu!')\n",
        "\n",
        "      elif maquina == 'pedra':\n",
        "          print(f'maquina:{maquina} vs usuario:{escolha}! Voce Perdeu!')\n",
        "\n",
        "  else:\n",
        "      print('Escolha nao identificada!')\n",
        "  jogar_novamente = input('Deseja jogar novamente? Sim ou Nao: ').lower()\n",
        "\n",
        "print('Acabou!')\n"
      ],
      "metadata": {
        "id": "0zGV7dLgxAat"
      },
      "execution_count": null,
      "outputs": []
    },
    {
      "cell_type": "code",
      "source": [
        "#jogo da forca\n",
        "from random import choice\n",
        "\n",
        "vocabulario = [\n",
        "               \"\"\"esquistossomose\", \"naftalina\", \"ribonucleico\", \n",
        "               \"idiossincratico\", \"fagocitose\", \"quinquagesimo\"\"\"\n",
        "               ]\n",
        "\n",
        "palavra = choice(vocabulario)\n",
        "\n",
        "print('Bem vindo ao JOGO DA FORCA!! Teste seu conhecimento!!')\n",
        "\n",
        "chances = 5\n",
        "alfabeto = list('abcdefghijklmnopqrstuvwxyz')\n",
        "tentativas = []\n",
        "\n",
        "while True:\n",
        "    print(tentativas)\n",
        "    print(f'Voce tem {chances} chances!')\n",
        "\n",
        "    for letra in palavra:\n",
        "        if letra in tentativas:\n",
        "            print(letra, end = '')\n",
        "        else:\n",
        "            print('_', end = '')\n",
        "    palpite = str(input('\\nDigite seu palpite ou SAIR para sair do programa: ').lower())\n",
        "    if palpite == 'sair':\n",
        "        break\n",
        "\n",
        "    elif palpite not in alfabeto or palpite == '':\n",
        "        print('Voce não digitou uma letra! Tente novamente!')        \n",
        "        continue\n",
        "\n",
        "    elif palpite in tentativas:\n",
        "        print('Voce ja digitou esta letra, tente outra!')\n",
        "\n",
        "    tentativas.append(palpite)\n",
        "\n",
        "    if palpite in palavra:\n",
        "        print('Acertou, Parabéns')\n",
        "        \n",
        "    else:\n",
        "        print('Errou!')\n",
        "        chances -= 1\n",
        "    if chances == 0:\n",
        "        print('Voce Perdeu!!')\n",
        "        break\n",
        "    elif set(palavra).issubset(set(tentativas)):\n",
        "        print('Parabéns voce acertou!! Completou o JOGO DA FORCA!')\n",
        "        break"
      ],
      "metadata": {
        "id": "3bAYLfsgpKZa",
        "colab": {
          "base_uri": "https://localhost:8080/"
        },
        "outputId": "8e94c879-0fa5-42a0-f492-1ba23653da71"
      },
      "execution_count": null,
      "outputs": [
        {
          "output_type": "stream",
          "name": "stdout",
          "text": [
            "Bem vindo ao JOGO DA FORCA!! Teste seu conhecimento!!\n",
            "[]\n",
            "Voce tem 5 chances!\n",
            "______________________________________________________________________________________________________________\n",
            "Digite seu palpite ou SAIR para sair do programa: r\n",
            "Acertou, Parabéns\n",
            "['r']\n",
            "Voce tem 5 chances!\n",
            "________________________________r________________________________________r____________________________________"
          ]
        }
      ]
    },
    {
      "cell_type": "code",
      "source": [
        "a = 5\n",
        "b = 10\n",
        "print( ++a + b)"
      ],
      "metadata": {
        "id": "m5LGoaQ_NuEl"
      },
      "execution_count": null,
      "outputs": []
    },
    {
      "cell_type": "code",
      "source": [
        "#Escolha seu pokemon \n",
        "import random\n",
        "class Pokemon:\n",
        "    def __init__(self, hp, atk, defe):\n",
        "        self.hp = hp\n",
        "        self.atk = atk\n",
        "        self.defe = defe\n",
        "  \n",
        "class Mewtwo(Pokemon):\n",
        "    def __init__(self, hp, atk, defe):\n",
        "        super().__init__(hp, atk, defe)\n",
        "\n",
        "class Bulbassaur(Pokemon):\n",
        "    def __init__(self, hp, atk, defe):\n",
        "        super().__init__(hp, atk, defe)\n",
        "\n",
        "class Charmander(Pokemon):\n",
        "    def __init__(self, hp, atk, defe):\n",
        "        super().__init__(hp, atk, defe)\n",
        "\n",
        "class Squirtle(Pokemon):\n",
        "    def __init__(self, hp, atk, defe):\n",
        "        super().__init__(hp, atk, defe)\n",
        "\n",
        "    def __str__(self):\n",
        "        return f'{self.hp} {self.atk} {self.defe}'\n",
        "\n",
        "status = random.randint(90, 150)\n",
        "status1 = random.randint(90, 150)\n",
        "status2 = random.randint(90, 150)\n",
        "\n",
        "p0 = Mewtwo (150, 150, 150)\n",
        "p1 = Bulbassaur (status, status1, status2)\n",
        "p2 = Charmander (status, status1, status2)\n",
        "p3 = Squirtle (status, status1, status2)\n",
        "\n",
        "print(\"Vamos iniciar uma jornada!!!!\")\n",
        "jogar = str(input(\"Está preparado?? 'SIM' ou 'NAO' \")).upper()\n",
        "\n",
        "\n",
        "while jogar == 'SIM':\n",
        "  jogador = str(input(\"Qual o nome do seu personagem? \"))\n",
        "  \n",
        "  if jogar == 'SIM':\n",
        "      escolha = str(input(\"\"\"Escolha seu pokemon {jogador}\n",
        "        [1]Bulbassaur\n",
        "        [2]Charmander\n",
        "        [3]Squirtle\n",
        "                    \"\"\").format(jogador))\n",
        "      while escolha == 1 and escolha == 2 and escolha == 3:\n",
        "          if escolha == 1:\n",
        "              print(\"Você escolheu {}!! Ótima {} escolha!!\".format(p1, jogador))\n",
        "          \n",
        "          elif escolha == 2:\n",
        "                print(\"Você escolheu {}!! Ótima {} escolha!!\".format(p2, jogador))\n",
        "          \n",
        "          elif escolha == 3:\n",
        "                print(\"Você escolheu {}!! Ótima {} escolha!!\".format(p3, jogador))\n",
        "          \n",
        "          else:\n",
        "              print(\"Escolha um pokemon para iniciar sua jornada!!\")\n",
        "\n",
        "  print(\"Agora vamos batalhar!!\")\n",
        "  print(\"Seu oponente será....\")\n",
        "  print(\"MEWTWO!!!!\")\n",
        "\n",
        "  print('Eu escolho você {}'.format(escolha))\n",
        "\n",
        "else:\n",
        "    print(\"GAME OVER\")\n",
        "      \n",
        "\n",
        "\n",
        "\n",
        "\n",
        "\n",
        "\n",
        "\n",
        "\n",
        "\n",
        "\n",
        "\n",
        "\n",
        "\n",
        "\n",
        "print(p0.hp, p0.atk, p0.defe)\n",
        "print(p1.hp, p1.atk, p1.defe)\n",
        "print(p2.hp, p2.atk, p2.defe)\n",
        "print(p3.hp, p3.atk, p3.defe)"
      ],
      "metadata": {
        "id": "XykwKdgA7x1R"
      },
      "execution_count": null,
      "outputs": []
    },
    {
      "cell_type": "code",
      "source": [
        "import time\n",
        "import numpy as np\n",
        "import sys\n",
        "\n",
        "# Delay printing\n",
        "\n",
        "def delay_print(s):\n",
        "    # print one character at a time\n",
        "    # https://stackoverflow.com/questions/9246076/how-to-print-one-character-at-a-time-on-one-line\n",
        "    for c in s:\n",
        "        sys.stdout.write(c)\n",
        "        sys.stdout.flush()\n",
        "        time.sleep(0.05)\n",
        "\n",
        "# Create the class\n",
        "class Pokemon:\n",
        "    def __init__(self, name, types, moves, EVs, health='==================='):\n",
        "        # save variables as attributes\n",
        "        self.name = name\n",
        "        self.types = types\n",
        "        self.moves = moves\n",
        "        self.attack = EVs['ATTACK']\n",
        "        self.defense = EVs['DEFENSE']\n",
        "        self.health = health\n",
        "        self.bars = 20 # Amount of health bars\n",
        "\n",
        "\n",
        "    def fight(self, Pokemon2):\n",
        "        # Allow two pokemon to fight each other\n",
        "\n",
        "        # Print fight information\n",
        "        print(\"-----POKEMONE BATTLE-----\")\n",
        "        print(f\"\\n{self.name}\")\n",
        "        print(\"TYPE/\", self.types)\n",
        "        print(\"ATTACK/\", self.attack)\n",
        "        print(\"DEFENSE/\", self.defense)\n",
        "        print(\"LVL/\", 3*(1+np.mean([self.attack,self.defense])))\n",
        "        print(\"\\nVS\")\n",
        "        print(f\"\\n{Pokemon2.name}\")\n",
        "        print(\"TYPE/\", Pokemon2.types)\n",
        "        print(\"ATTACK/\", Pokemon2.attack)\n",
        "        print(\"DEFENSE/\", Pokemon2.defense)\n",
        "        print(\"LVL/\", 3*(1+np.mean([Pokemon2.attack,Pokemon2.defense])))\n",
        "\n",
        "        time.sleep(2)\n",
        "\n",
        "        # Consider type advantages\n",
        "        version = ['Fire', 'Water', 'Grass']\n",
        "        for i,k in enumerate(version):\n",
        "            if self.types == k:\n",
        "                # Both are same type\n",
        "                if Pokemon2.types == k:\n",
        "                    string_1_attack = '\\nIts not very effective...'\n",
        "                    string_2_attack = '\\nIts not very effective...'\n",
        "\n",
        "                # Pokemon2 is STRONG\n",
        "                if Pokemon2.types == version[(i+1)%3]:\n",
        "                    Pokemon2.attack *= 2\n",
        "                    Pokemon2.defense *= 2\n",
        "                    self.attack /= 2\n",
        "                    self.defense /= 2\n",
        "                    string_1_attack = '\\nIts not very effective...'\n",
        "                    string_2_attack = '\\nIts super effective!'\n",
        "\n",
        "                # Pokemon2 is WEAK\n",
        "                if Pokemon2.types == version[(i+2)%3]:\n",
        "                    self.attack *= 2\n",
        "                    self.defense *= 2\n",
        "                    Pokemon2.attack /= 2\n",
        "                    Pokemon2.defense /= 2\n",
        "                    string_1_attack = '\\nIts super effective!'\n",
        "                    string_2_attack = '\\nIts not very effective...'\n",
        "\n",
        "\n",
        "        # Now for the actual fighting...\n",
        "        # Continue while pokemon still have health\n",
        "        while (self.bars > 0) and (Pokemon2.bars > 0):\n",
        "            # Print the health of each pokemon\n",
        "            print(f\"\\n{self.name}\\t\\tHLTH\\t{self.health}\")\n",
        "            print(f\"{Pokemon2.name}\\t\\tHLTH\\t{Pokemon2.health}\\n\")\n",
        "\n",
        "            print(f\"Go {self.name}!\")\n",
        "            for i, x in enumerate(self.moves):\n",
        "                print(f\"{i+1}.\", x)\n",
        "            index = int(input('Pick a move: '))\n",
        "            delay_print(f\"\\n{self.name} used {self.moves[index-1]}!\")\n",
        "            time.sleep(1)\n",
        "            delay_print(string_1_attack)\n",
        "\n",
        "            # Determine damage\n",
        "            Pokemon2.bars -= self.attack\n",
        "            Pokemon2.health = \"\"\n",
        "\n",
        "            # Add back bars plus defense boost\n",
        "            for j in range(int(Pokemon2.bars+.1*Pokemon2.defense)):\n",
        "                Pokemon2.health += \"=\"\n",
        "\n",
        "            time.sleep(1)\n",
        "            print(f\"\\n{self.name}\\t\\tHLTH\\t{self.health}\")\n",
        "            print(f\"{Pokemon2.name}\\t\\tHLTH\\t{Pokemon2.health}\\n\")\n",
        "            time.sleep(.5)\n",
        "\n",
        "            # Check to see if Pokemon fainted\n",
        "            if Pokemon2.bars <= 0:\n",
        "                delay_print(\"\\n...\" + Pokemon2.name + ' fainted.')\n",
        "                break\n",
        "\n",
        "            # Pokemon2s turn\n",
        "\n",
        "            print(f\"Go {Pokemon2.name}!\")\n",
        "            for i, x in enumerate(Pokemon2.moves):\n",
        "                print(f\"{i+1}.\", x)\n",
        "            index = int(input('Pick a move: '))\n",
        "            delay_print(f\"\\n{Pokemon2.name} used {Pokemon2.moves[index-1]}!\")\n",
        "            time.sleep(1)\n",
        "            delay_print(string_2_attack)\n",
        "\n",
        "            # Determine damage\n",
        "            self.bars -= Pokemon2.attack\n",
        "            self.health = \"\"\n",
        "\n",
        "            # Add back bars plus defense boost\n",
        "            for j in range(int(self.bars+.1*self.defense)):\n",
        "                self.health += \"=\"\n",
        "\n",
        "            time.sleep(1)\n",
        "            print(f\"{self.name}\\t\\tHLTH\\t{self.health}\")\n",
        "            print(f\"{Pokemon2.name}\\t\\tHLTH\\t{Pokemon2.health}\\n\")\n",
        "            time.sleep(.5)\n",
        "\n",
        "            # Check to see if Pokemon fainted\n",
        "            if self.bars <= 0:\n",
        "                delay_print(\"\\n...\" + self.name + ' fainted.')\n",
        "                break\n",
        "\n",
        "        money = np.random.choice(5000)\n",
        "        delay_print(f\"\\nOpponent paid you ${money}.\\n\")\n",
        "\n",
        "\n",
        "\n",
        "\n",
        "\n",
        "\n",
        "if __name__ == '__main__':\n",
        "    #Create Pokemon\n",
        "    Charizard = Pokemon('Charizard', 'Fire', ['Flamethrower', 'Fly', 'Blast Burn', 'Fire Punch'], {'ATTACK':12, 'DEFENSE': 8})\n",
        "    Blastoise = Pokemon('Blastoise', 'Water', ['Water Gun', 'Bubblebeam', 'Hydro Pump', 'Surf'],{'ATTACK': 10, 'DEFENSE':10})\n",
        "    Venusaur = Pokemon('Venusaur', 'Grass', ['Vine Wip', 'Razor Leaf', 'Earthquake', 'Frenzy Plant'],{'ATTACK':8, 'DEFENSE':12})\n",
        "\n",
        "    Charmander = Pokemon('Charmander', 'Fire', ['Ember', 'Scratch', 'Tackle', 'Fire Punch'],{'ATTACK':4, 'DEFENSE':2})\n",
        "    Squirtle = Pokemon('Squirtle', 'Water', ['Bubblebeam', 'Tackle', 'Headbutt', 'Surf'],{'ATTACK': 3, 'DEFENSE':3})\n",
        "    Bulbasaur = Pokemon('Bulbasaur', 'Grass', ['Vine Wip', 'Razor Leaf', 'Tackle', 'Leech Seed'],{'ATTACK':2, 'DEFENSE':4})\n",
        "\n",
        "    Charmeleon = Pokemon('Charmeleon', 'Fire', ['Ember', 'Scratch', 'Flamethrower', 'Fire Punch'],{'ATTACK':6, 'DEFENSE':5})\n",
        "    Wartortle = Pokemon('Wartortle', 'Water', ['Bubblebeam', 'Water Gun', 'Headbutt', 'Surf'],{'ATTACK': 5, 'DEFENSE':5})\n",
        "    Ivysaur = Pokemon('Ivysaur\\t', 'Grass', ['Vine Wip', 'Razor Leaf', 'Bullet Seed', 'Leech Seed'],{'ATTACK':4, 'DEFENSE':6})\n",
        "\n",
        "\n",
        "    Charizard.fight(Blastoise) # Get them to fight"
      ],
      "metadata": {
        "id": "C2bqt19aAmtq"
      },
      "execution_count": null,
      "outputs": []
    }
  ]
}